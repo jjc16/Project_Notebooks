{
  "nbformat": 4,
  "nbformat_minor": 0,
  "metadata": {
    "kernelspec": {
      "display_name": "Python 3",
      "language": "python",
      "name": "python3"
    },
    "language_info": {
      "codemirror_mode": {
        "name": "ipython",
        "version": 3
      },
      "file_extension": ".py",
      "mimetype": "text/x-python",
      "name": "python",
      "nbconvert_exporter": "python",
      "pygments_lexer": "ipython3",
      "version": "3.8.5"
    },
    "colab": {
      "name": "poker_hand_calculator.ipynb",
      "provenance": [],
      "include_colab_link": true
    }
  },
  "cells": [
    {
      "cell_type": "markdown",
      "metadata": {
        "id": "view-in-github",
        "colab_type": "text"
      },
      "source": [
        "<a href=\"https://colab.research.google.com/github/jjc16/Project_Notebooks/blob/master/poker_hand_calculator.ipynb\" target=\"_parent\"><img src=\"https://colab.research.google.com/assets/colab-badge.svg\" alt=\"Open In Colab\"/></a>"
      ]
    },
    {
      "cell_type": "markdown",
      "metadata": {
        "id": "d_E4B1O4Ppaw"
      },
      "source": [
        "# Poker Hand Comparison Tool\n",
        "\n",
        "This is an exercise that I did recently, and I wanted to share the notebook to my Github page so that it would hopefully be instructional to others.\n",
        "\n",
        "Objectives:\n",
        "- pass all test cases\n",
        "- make code that is *modular*, *reusable*, and *easily maintained*\n",
        "- explain my design choices\n",
        "\n",
        "**Game Notes:**\n",
        "\n",
        "I am assuming that people are familiar with the scoring rules for poker hands. For those who aren't, more information can be found here: https://www.cardplayer.com/rules-of-poker/hand-rankings\n",
        "\n",
        "Also, A = 14, K = 13, Q = 12, J = 11, 10 = 10, ..., A = 1.\n",
        "\n",
        "Finally, I am not differentiating between two flushes based on high card. It is trivially easy for the reader to add this function.\n",
        "\n",
        "**Google Colab:** https://colab.research.google.com/github/jjc16/Project_Notebooks/blob/master/poker_hand_calculator.ipynb\n",
        "\n",
        "First, let's import the necessary libraries:  "
      ]
    },
    {
      "cell_type": "code",
      "metadata": {
        "id": "Kp-fW1eOPpa3"
      },
      "source": [
        "import json"
      ],
      "execution_count": null,
      "outputs": []
    },
    {
      "cell_type": "markdown",
      "metadata": {
        "id": "IaAubpXYPpa4"
      },
      "source": [
        "Now, we define our test cases (in json string format)"
      ]
    },
    {
      "cell_type": "code",
      "metadata": {
        "id": "sqm2b_dUPpa4"
      },
      "source": [
        "# test cases:\n",
        "# Tie\n",
        "handOne_1 =  \"[{\\\"value\\\":1,\\\"suit\\\":\\\"hearts\\\"},{\\\"value\\\":2,\\\"suit\\\":\\\"hearts\\\"},{\\\"value\\\":3,\\\"suit\\\":\\\"hearts\\\"},{\\\"value\\\":4,\\\"suit\\\":\\\"hearts\\\"},{\\\"value\\\":5,\\\"suit\\\":\\\"hearts\\\"}]\"\n",
        "handTwo_1 = \"[{\\\"value\\\":1,\\\"suit\\\":\\\"hearts\\\"},{\\\"value\\\":2,\\\"suit\\\":\\\"hearts\\\"},{\\\"value\\\":3,\\\"suit\\\":\\\"hearts\\\"},{\\\"value\\\":4,\\\"suit\\\":\\\"hearts\\\"},{\\\"value\\\":5,\\\"suit\\\":\\\"hearts\\\"}]\"\n",
        "\n",
        "#handOne\n",
        "handOne_2 = \"[{\\\"value\\\":8,\\\"suit\\\":\\\"hearts\\\"},{\\\"value\\\":2,\\\"suit\\\":\\\"hearts\\\"},{\\\"value\\\":3,\\\"suit\\\":\\\"hearts\\\"},{\\\"value\\\":4,\\\"suit\\\":\\\"hearts\\\"},{\\\"value\\\":1,\\\"suit\\\":\\\"hearts\\\"}]\"\n",
        "handTwo_2 = \"[{\\\"value\\\":1,\\\"suit\\\":\\\"hearts\\\"},{\\\"value\\\":2,\\\"suit\\\":\\\"hearts\\\"},{\\\"value\\\":3,\\\"suit\\\":\\\"hearts\\\"},{\\\"value\\\":4,\\\"suit\\\":\\\"hearts\\\"},{\\\"value\\\":5,\\\"suit\\\":\\\"spades\\\"}]\"\n",
        "\n",
        "#handOne\n",
        "handOne_3 = \"[{\\\"value\\\":8,\\\"suit\\\":\\\"hearts\\\"},{\\\"value\\\":2,\\\"suit\\\":\\\"hearts\\\"},{\\\"value\\\":3,\\\"suit\\\":\\\"hearts\\\"},{\\\"value\\\":4,\\\"suit\\\":\\\"hearts\\\"},{\\\"value\\\":1,\\\"suit\\\":\\\"hearts\\\"}]\"\n",
        "handTwo_3 = \"[{\\\"value\\\":1,\\\"suit\\\":\\\"hearts\\\"},{\\\"value\\\":2,\\\"suit\\\":\\\"hearts\\\"},{\\\"value\\\":3,\\\"suit\\\":\\\"hearts\\\"},{\\\"value\\\":4,\\\"suit\\\":\\\"hearts\\\"},{\\\"value\\\":5,\\\"suit\\\":\\\"spades\\\"}]\"\n",
        "\n",
        "#handTwo\n",
        "handTwo_4 = \"[{\\\"value\\\":8,\\\"suit\\\":\\\"hearts\\\"},{\\\"value\\\":8,\\\"suit\\\":\\\"spades\\\"},{\\\"value\\\":8,\\\"suit\\\":\\\"diamonds\\\"},{\\\"value\\\":8,\\\"suit\\\":\\\"clubs\\\"},{\\\"value\\\":1,\\\"suit\\\":\\\"hearts\\\"}]\"\n",
        "handOne_4 = \"[{\\\"value\\\":1,\\\"suit\\\":\\\"hearts\\\"},{\\\"value\\\":2,\\\"suit\\\":\\\"hearts\\\"},{\\\"value\\\":3,\\\"suit\\\":\\\"hearts\\\"},{\\\"value\\\":4,\\\"suit\\\":\\\"hearts\\\"},{\\\"value\\\":6,\\\"suit\\\":\\\"spades\\\"}]\""
      ],
      "execution_count": null,
      "outputs": []
    },
    {
      "cell_type": "markdown",
      "metadata": {
        "id": "z5BrUjWbPpa5"
      },
      "source": [
        "It might seem silly to have a one line loader function like this. However, this sort of thing is necessary for maintainability on a project with a large code base if the programmer doesn't want to spend eternity digging out 30 instance of str_ = json.loads(...) to replace it with some more complicated logic to handle the new cases the project manager suddenly decided the code should handle."
      ]
    },
    {
      "cell_type": "code",
      "metadata": {
        "id": "Qs-wDAbfPpa5"
      },
      "source": [
        "# loader function\n",
        "def load_hand(hand_):\n",
        "    return json.loads(hand_)"
      ],
      "execution_count": null,
      "outputs": []
    },
    {
      "cell_type": "markdown",
      "metadata": {
        "id": "Rdag3EdoPpa5"
      },
      "source": [
        "## List manipulation helper functions\n",
        "The idea behind these functions is to have short, sweet, atomistic functions that do *one thing* and do it *exactly* like we expect it to be done.\n",
        "\n",
        "One of the reasons to do this is, generally speaking, you want to debug your code *while* you're writing it, not after. In other words:\n",
        "1. Write a small piece of code\n",
        "2. Throw every relavent test case at it you can think of\n",
        "3. Move on when the code works exactly the way you want it to work\n",
        "\n",
        "The next three functions are examples of this -- low level list manipulation that we will leverage for more complicated functions later on.\n",
        "\n",
        "If you don't already design your code this way, you should start -- you'll thank me later."
      ]
    },
    {
      "cell_type": "code",
      "metadata": {
        "id": "FA1h2gt3Ppa6"
      },
      "source": [
        "# return list of card values\n",
        "def card_list(hand):\n",
        "    cl = []\n",
        "    for tmp in hand:\n",
        "        cl.append(tmp['value'])\n",
        "    return cl"
      ],
      "execution_count": null,
      "outputs": []
    },
    {
      "cell_type": "code",
      "metadata": {
        "id": "iIyCu7bJPpa6"
      },
      "source": [
        "#return a list of card suits\n",
        "def suit_list(hand):\n",
        "    sl = []\n",
        "    for tmp in hand:\n",
        "        sl.append(tmp['suit'])\n",
        "    return sl"
      ],
      "execution_count": null,
      "outputs": []
    },
    {
      "cell_type": "code",
      "metadata": {
        "id": "xRr02BESPpa6"
      },
      "source": [
        "#return a list of card value counts (to compare quads vs. three of a kind, etc.)\n",
        "def count_list(card_list):\n",
        "    ct = []\n",
        "    lst = set(card_list)\n",
        "    for l in lst:\n",
        "        tmp = card_list.count(l)\n",
        "        ct.append(tmp)\n",
        "    return ct"
      ],
      "execution_count": null,
      "outputs": []
    },
    {
      "cell_type": "markdown",
      "metadata": {
        "id": "5GfGWHQ7Ppa7"
      },
      "source": [
        "## Hand tests\n",
        "\n",
        "Now, we can start testing for specific hands"
      ]
    },
    {
      "cell_type": "code",
      "metadata": {
        "id": "HE6i9_x0Ppa7"
      },
      "source": [
        "# For a flush, we do the following\n",
        "# 1. Get a list of suits\n",
        "# 2. Get the unique suits in the hand (using the set function)\n",
        "# 3. Check the length. For a flush, the number of unique suits will be 1 (all same suit), so the length of the set will be one\n",
        "def testFlush(hand):\n",
        "    out = suit_list(hand)\n",
        "    tmp = set(out)\n",
        "    if len(tmp) == 1:\n",
        "        return 'Flush', True\n",
        "    else:\n",
        "        return '', False"
      ],
      "execution_count": null,
      "outputs": []
    },
    {
      "cell_type": "code",
      "metadata": {
        "id": "NdagEC9fPpa9"
      },
      "source": [
        "# For a straight, we do the following:\n",
        "# 1. Get the card values\n",
        "# 2. Sort them\n",
        "# 3. Get the set\n",
        "# The difference between the high and low card should be == 4 and the length of the list should be 5 (no pairs)\n",
        "def testStraight(hand):\n",
        "    out = card_list(hand)\n",
        "    out.sort()\n",
        "#     print(out)\n",
        "    tmp = set(out)\n",
        "#     print(tmp)\n",
        "    if (out[4] - out[0] == 4) and len(tmp) == 5:\n",
        "        return 'Straight', True\n",
        "    else:\n",
        "        return '', False"
      ],
      "execution_count": null,
      "outputs": []
    },
    {
      "cell_type": "code",
      "metadata": {
        "id": "BWQn0y7MPpa9"
      },
      "source": [
        "# Check for pairs\n",
        "def pair_check(hand):\n",
        "    cl = card_list(hand)\n",
        "    lcl = set(cl)\n",
        "    ct = count_list(cl)\n",
        "    if len(ct) == 5:\n",
        "        return 'High'#High card only\n",
        "    if len(ct) == 4:\n",
        "        return 'Pair'#Pair\n",
        "    if len(ct) == 3:\n",
        "        if max(ct) == 2:\n",
        "            return 'Two'#[2,2,1] -- Two of a kind\n",
        "        if max(ct) == 3:\n",
        "            return 'Three'#[3,1,1] -- Three of a kind\n",
        "    if len(ct) == 2:\n",
        "        if max(ct) == 3:\n",
        "            return 'Full' #[3,2] Full house\n",
        "        if max(ct) == 4:\n",
        "            return 'Quad' #[4,1] Four of a kind"
      ],
      "execution_count": null,
      "outputs": []
    },
    {
      "cell_type": "code",
      "metadata": {
        "id": "_5s3jOMGPpa-"
      },
      "source": [
        "#If a hand is a straight and a flush, it's either a straight flush or a royal flush\n",
        "def testStraightFlush(hand):\n",
        "    _, tst1 = testStraight(hand)\n",
        "    _, tst2 = testFlush(hand)\n",
        "    out = card_list(hand)\n",
        "    out.sort()\n",
        "    if tst1 and tst2 and max(out) == 14:\n",
        "        return 'Royal'\n",
        "    if tst1 and tst2:\n",
        "        return 'StFl'\n",
        "    else:\n",
        "        return []"
      ],
      "execution_count": null,
      "outputs": []
    },
    {
      "cell_type": "markdown",
      "metadata": {
        "id": "voKXMkemPpa_"
      },
      "source": [
        "## Get hand, hand value, main function\n",
        "\n",
        "Below are two more helper functions -- one to get the hand string and the other to score the hand based on string -- and the main function"
      ]
    },
    {
      "cell_type": "code",
      "metadata": {
        "id": "Q-teumQGPpa_"
      },
      "source": [
        "def get_hand(hand):\n",
        "    tst = []\n",
        "    tst = testStraightFlush(hand)\n",
        "    if not tst:\n",
        "#         print(1)\n",
        "        tst, _ = testStraight(hand)\n",
        "    if not tst:\n",
        "#         print(2)\n",
        "        tst, _ = testFlush(hand)\n",
        "    if not tst:\n",
        "#         print(3)\n",
        "        tst = pair_check(hand)\n",
        "    return tst"
      ],
      "execution_count": null,
      "outputs": []
    },
    {
      "cell_type": "code",
      "metadata": {
        "id": "Pzaawt8MPpa_"
      },
      "source": [
        "def value_hand(val_str):\n",
        "    if val_str == 'Royal':\n",
        "        return 1\n",
        "    if val_str == 'StFl':\n",
        "        return 2\n",
        "    if val_str == 'Quad':\n",
        "        return 3\n",
        "    if val_str == 'Full':\n",
        "        return 4\n",
        "    if val_str == 'Flush':\n",
        "        return 5\n",
        "    if val_str == 'Straight':\n",
        "        return 6\n",
        "    if val_str == 'Three':\n",
        "        return 7\n",
        "    if val_str == 'Two':\n",
        "        return 8\n",
        "    if val_str == 'One':\n",
        "        return 9\n",
        "    if val_str == 'High':\n",
        "        return 10"
      ],
      "execution_count": null,
      "outputs": []
    },
    {
      "cell_type": "code",
      "metadata": {
        "id": "W63uvK0oPpbA"
      },
      "source": [
        "def solution(handOne: str, handTwo: str) -> str:\n",
        "    \n",
        "    handOne = load_hand(handOne)\n",
        "    handTwo = load_hand(handTwo)\n",
        "    \n",
        "    hand1_str = get_hand(handOne)\n",
        "    hand2_str = get_hand(handTwo)\n",
        "    \n",
        "    val1 = value_hand(hand1_str)\n",
        "    val2 = value_hand(hand2_str)\n",
        "    \n",
        "    if val1 > val2:\n",
        "        return 'handTwo'\n",
        "    if val1 < val2:\n",
        "        return 'handOne'\n",
        "    if val1 == val2:\n",
        "        return 'Tie'"
      ],
      "execution_count": null,
      "outputs": []
    },
    {
      "cell_type": "markdown",
      "metadata": {
        "id": "g5pfMLl7PpbA"
      },
      "source": [
        "## Test Cases"
      ]
    },
    {
      "cell_type": "code",
      "metadata": {
        "id": "6pq0VruuPpbA",
        "outputId": "cea9a6c0-9360-4ca4-8283-fae088e6b37e"
      },
      "source": [
        "case1 = solution(handOne_1, handTwo_1)\n",
        "print(case1)\n",
        "case2 = solution(handOne_2, handTwo_2)\n",
        "print(case2)\n",
        "case3 = solution(handOne_3, handTwo_3)\n",
        "print(case3)\n",
        "case4 = solution(handOne_4, handTwo_4)\n",
        "print(case4)"
      ],
      "execution_count": null,
      "outputs": [
        {
          "output_type": "stream",
          "text": [
            "Tie\n",
            "handOne\n",
            "handOne\n",
            "handTwo\n"
          ],
          "name": "stdout"
        }
      ]
    }
  ]
}